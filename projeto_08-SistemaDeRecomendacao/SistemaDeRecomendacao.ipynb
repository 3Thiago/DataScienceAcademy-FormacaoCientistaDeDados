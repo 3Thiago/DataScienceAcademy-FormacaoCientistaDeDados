{
 "cells": [
  {
   "cell_type": "markdown",
   "metadata": {},
   "source": [
    "# <font color='green'>Sistema de Recomendação</font>"
   ]
  },
  {
   "cell_type": "markdown",
   "metadata": {},
   "source": [
    "Este projeto tem como objetivo aplicar um algoritmo de Sistema de Recomendação e calcular o affinity score, a fim de descobrir se um produto deve ou não ser recomendado a um usuário."
   ]
  },
  {
   "cell_type": "markdown",
   "metadata": {},
   "source": [
    "Foi utilizado um dataset de exemplo onde cada coluna representa, respectivamente: user, item, rating"
   ]
  },
  {
   "cell_type": "code",
   "execution_count": 2,
   "metadata": {},
   "outputs": [],
   "source": [
    "spSession = SparkSession.builder.master(\"local\").appName(\"SR-SparkMLLib\").config(\"spark.some.config.option\", \"session\").getOrCreate()"
   ]
  },
  {
   "cell_type": "code",
   "execution_count": 3,
   "metadata": {},
   "outputs": [],
   "source": [
    "from pyspark.ml.recommendation import ALS"
   ]
  },
  {
   "cell_type": "markdown",
   "metadata": {},
   "source": [
    "## Pré-processamento"
   ]
  },
  {
   "cell_type": "code",
   "execution_count": 4,
   "metadata": {},
   "outputs": [],
   "source": [
    "userItemRDD = sc.textFile(\"data/user-item.txt\")"
   ]
  },
  {
   "cell_type": "code",
   "execution_count": 5,
   "metadata": {},
   "outputs": [
    {
     "data": {
      "text/plain": [
       "['1001,9001,10',\n",
       " '1001,9002,1',\n",
       " '1001,9003,9',\n",
       " '1002,9001,3',\n",
       " '1002,9002,5',\n",
       " '1002,9003,1',\n",
       " '1002,9004,10',\n",
       " '1003,9001,2',\n",
       " '1003,9002,6',\n",
       " '1003,9003,2',\n",
       " '1003,9004,9',\n",
       " '1003,9005,10',\n",
       " '1003,9006,8',\n",
       " '1003,9007,9',\n",
       " '1004,9001,9',\n",
       " '1004,9002,2',\n",
       " '1004,9003,8',\n",
       " '1004,9004,3',\n",
       " '1004,9010,10',\n",
       " '1004,9011,9',\n",
       " '1004,9012,8',\n",
       " '1005,9001,8',\n",
       " '1005,9002,3',\n",
       " '1005,9003,7',\n",
       " '1005,9004,1',\n",
       " '1005,9010,9',\n",
       " '1005,9011,10',\n",
       " '1005,9012,9',\n",
       " '1005,9013,8',\n",
       " '1005,9014,1',\n",
       " '1005,9015,1',\n",
       " '1006,9001,7',\n",
       " '1006,9002,4',\n",
       " '1006,9003,8',\n",
       " '1006,9004,1',\n",
       " '1006,9010,7',\n",
       " '1006,9011,6',\n",
       " '1006,9012,9']"
      ]
     },
     "execution_count": 5,
     "metadata": {},
     "output_type": "execute_result"
    }
   ],
   "source": [
    "userItemRDD.collect()"
   ]
  },
  {
   "cell_type": "code",
   "execution_count": 13,
   "metadata": {},
   "outputs": [
    {
     "data": {
      "text/plain": [
       "[(1001, 9001, 10.0),\n",
       " (1001, 9002, 1.0),\n",
       " (1001, 9003, 9.0),\n",
       " (1002, 9001, 3.0),\n",
       " (1002, 9002, 5.0)]"
      ]
     },
     "execution_count": 13,
     "metadata": {},
     "output_type": "execute_result"
    }
   ],
   "source": [
    "userItemRDD2 = userItemRDD.map(lambda l: l.split(',')).map(lambda l:(int(l[0]), int(l[1]), float(l[2])))\n",
    "userItemRDD2.take(5)"
   ]
  },
  {
   "cell_type": "code",
   "execution_count": 15,
   "metadata": {},
   "outputs": [
    {
     "name": "stdout",
     "output_type": "stream",
     "text": [
      "+----+----+------+\n",
      "|user|item|rating|\n",
      "+----+----+------+\n",
      "|1001|9001|  10.0|\n",
      "|1001|9002|   1.0|\n",
      "|1001|9003|   9.0|\n",
      "|1002|9001|   3.0|\n",
      "|1002|9002|   5.0|\n",
      "|1002|9003|   1.0|\n",
      "|1002|9004|  10.0|\n",
      "|1003|9001|   2.0|\n",
      "|1003|9002|   6.0|\n",
      "|1003|9003|   2.0|\n",
      "|1003|9004|   9.0|\n",
      "|1003|9005|  10.0|\n",
      "|1003|9006|   8.0|\n",
      "|1003|9007|   9.0|\n",
      "|1004|9001|   9.0|\n",
      "|1004|9002|   2.0|\n",
      "|1004|9003|   8.0|\n",
      "|1004|9004|   3.0|\n",
      "|1004|9010|  10.0|\n",
      "|1004|9011|   9.0|\n",
      "+----+----+------+\n",
      "only showing top 20 rows\n",
      "\n"
     ]
    }
   ],
   "source": [
    "# Criando um Dataframe a partir do RDD\n",
    "userItemDF = spSession.createDataFrame(userItemRDD2, [\"user\", \"item\", \"rating\"])\n",
    "userItemDF.show()"
   ]
  },
  {
   "cell_type": "markdown",
   "metadata": {},
   "source": [
    "## Construção do modelo"
   ]
  },
  {
   "cell_type": "markdown",
   "metadata": {},
   "source": [
    "Para o sistema de recomendação, utilizando Filtragem Colaborativa, será utilizado o algoritmo ALS (Alternating Least Squares) que otimiza a loss function e tem bom desempenho em ambientes paralelizados."
   ]
  },
  {
   "cell_type": "code",
   "execution_count": null,
   "metadata": {},
   "outputs": [],
   "source": []
  }
 ],
 "metadata": {
  "kernelspec": {
   "display_name": "Python 3",
   "language": "python",
   "name": "python3"
  },
  "language_info": {
   "codemirror_mode": {
    "name": "ipython",
    "version": 3
   },
   "file_extension": ".py",
   "mimetype": "text/x-python",
   "name": "python",
   "nbconvert_exporter": "python",
   "pygments_lexer": "ipython3",
   "version": "3.6.5"
  }
 },
 "nbformat": 4,
 "nbformat_minor": 2
}
